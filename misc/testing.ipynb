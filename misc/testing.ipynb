{
 "cells": [
  {
   "cell_type": "code",
   "execution_count": 6,
   "metadata": {},
   "outputs": [],
   "source": [
    "import numpy as np\n",
    "\n",
    "def normal_form(board):\n",
    "    '''\n",
    "    Return normal form of board\n",
    "    Two boards are equivalent if they reduce to the same normal form.\n",
    "    The normal form is defined by the sequence of steps that generate it, and the sequence\n",
    "    is chosen to ensure that all equivalent instances are reduced to the same normal form.\n",
    "    '''\n",
    "    normal_form = []\n",
    "\n",
    "    # all of the positional symmetries are applied to the original instance, generating 32 equivalent, possibly distinct instances\n",
    "    # each of these instances have and associated tag\n",
    "    # this tag, or positional bit-mask, is a 17-bit string in which the ith bit is set if the ith square of the board is occuped\n",
    "    # those instances that share the largest bit-mask are candidates for normal form\n",
    "    # each candidate instance is mapped with and XOR piece transformation.\n",
    "    # the constant used is the value of the piece on the first occupied square\n",
    "    # all 24 bitwise-permutaton piece transformations are applied to each of the candidate instances\n",
    "    # the resulting instances are compared to each other with a string comparison\n",
    "    # instance that results in the lexicographically least string is selected as the normal form\n",
    "    # the sequence of steps that generated the normal form is returned\n",
    "\n",
    "    # 32 positional symmetries\n",
    "    positional_symmetries = \n",
    "    "
   ]
  },
  {
   "cell_type": "code",
   "execution_count": 33,
   "metadata": {},
   "outputs": [
    {
     "name": "stdout",
     "output_type": "stream",
     "text": [
      "[10, 146, 3840, 61440]\n",
      "[4370, 8707, 17413, 34946]\n"
     ]
    }
   ],
   "source": [
    "import itertools\n",
    "\n",
    "board = [[1, 1, 2, 1], [4, 0, 0, 7], [8, 9, 10, 11], [12, 13, 14, 15]]\n",
    "\n",
    "# find sum of each row\n",
    "row_sums = [sum([2**j for j in row]) for row in board]\n",
    "\n",
    "# find sum of each column\n",
    "col_sums = [sum([2**j for j in col]) for col in zip(*board)]\n",
    "\n",
    "print(row_sums)\n",
    "print(col_sums)"
   ]
  },
  {
   "cell_type": "code",
   "execution_count": 34,
   "metadata": {},
   "outputs": [
    {
     "name": "stdout",
     "output_type": "stream",
     "text": [
      "(1, 4, 8, 12)\n",
      "(1, 0, 9, 13)\n",
      "(2, 0, 10, 14)\n",
      "(1, 7, 11, 15)\n"
     ]
    }
   ],
   "source": [
    "for i in zip(*board):\n",
    "    print(i)"
   ]
  },
  {
   "cell_type": "code",
   "execution_count": 35,
   "metadata": {},
   "outputs": [
    {
     "name": "stdout",
     "output_type": "stream",
     "text": [
      "[134, 22, 3840, 61440]\n",
      "[4370, 8707, 17537, 34822]\n"
     ]
    }
   ],
   "source": [
    "board = [[1, 1, 7, 1], [4, 0, 0, 2], [8, 9, 10, 11], [12, 13, 14, 15]]\n",
    "\n",
    "# find sum of each row\n",
    "row_sums = [sum([2**j for j in row]) for row in board]\n",
    "\n",
    "# find sum of each column\n",
    "col_sums = [sum([2**j for j in col]) for col in zip(*board)]\n",
    "\n",
    "print(row_sums)\n",
    "print(col_sums)"
   ]
  },
  {
   "cell_type": "code",
   "execution_count": 15,
   "metadata": {},
   "outputs": [
    {
     "name": "stdout",
     "output_type": "stream",
     "text": [
      "-1 1 2 -1 \n",
      "4 -1 -1 7 \n",
      "8 9 10 11 \n",
      "12 13 14 15 \n"
     ]
    }
   ],
   "source": [
    "for i in range(4):\n",
    "    for j in range(4):\n",
    "        print(board[i][j], end=\" \")\n",
    "    print()"
   ]
  },
  {
   "cell_type": "code",
   "execution_count": 16,
   "metadata": {},
   "outputs": [
    {
     "data": {
      "text/plain": [
       "'-117-14-1-1289101112131415'"
      ]
     },
     "execution_count": 16,
     "metadata": {},
     "output_type": "execute_result"
    }
   ],
   "source": [
    "board = [[-1, 1, 7, -1], [4, -1, -1, 2], [8, 9, 10, 11], [12, 13, 14, 15]]\n",
    "normal_form(board)"
   ]
  },
  {
   "cell_type": "code",
   "execution_count": 17,
   "metadata": {},
   "outputs": [
    {
     "name": "stdout",
     "output_type": "stream",
     "text": [
      "-1 1 7 -1 \n",
      "4 -1 -1 2 \n",
      "8 9 10 11 \n",
      "12 13 14 15 \n"
     ]
    }
   ],
   "source": [
    "for i in range(4):\n",
    "    for j in range(4):\n",
    "        print(board[i][j], end=\" \")\n",
    "    print()"
   ]
  },
  {
   "cell_type": "code",
   "execution_count": null,
   "metadata": {},
   "outputs": [],
   "source": []
  }
 ],
 "metadata": {
  "kernelspec": {
   "display_name": "multitask-bert",
   "language": "python",
   "name": "python3"
  },
  "language_info": {
   "codemirror_mode": {
    "name": "ipython",
    "version": 3
   },
   "file_extension": ".py",
   "mimetype": "text/x-python",
   "name": "python",
   "nbconvert_exporter": "python",
   "pygments_lexer": "ipython3",
   "version": "3.8.2"
  },
  "orig_nbformat": 4,
  "vscode": {
   "interpreter": {
    "hash": "e6cba64f92086cea4f7c8f7f244f42e1e8cb9624a24fb73ff9c983ad8555d3f6"
   }
  }
 },
 "nbformat": 4,
 "nbformat_minor": 2
}
